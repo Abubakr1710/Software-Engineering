{
 "cells": [
  {
   "cell_type": "code",
   "execution_count": 30,
   "metadata": {},
   "outputs": [],
   "source": [
    "from pyspark.sql import SparkSession\n",
    "from pyspark.sql.types import *\n"
   ]
  },
  {
   "cell_type": "code",
   "execution_count": 31,
   "metadata": {},
   "outputs": [],
   "source": [
    "spark = SparkSession.builder.appName(\"iris_clf\").getOrCreate()"
   ]
  },
  {
   "cell_type": "code",
   "execution_count": 32,
   "metadata": {},
   "outputs": [
    {
     "name": "stdout",
     "output_type": "stream",
     "text": [
      "+------------+-----------+------------+-----------+-------+\n",
      "|sepal_length|sepal_width|petal_length|petal_width|variety|\n",
      "+------------+-----------+------------+-----------+-------+\n",
      "|         5.1|        3.5|         1.4|        0.2| Setosa|\n",
      "|         4.9|        3.0|         1.4|        0.2| Setosa|\n",
      "|         4.7|        3.2|         1.3|        0.2| Setosa|\n",
      "|         4.6|        3.1|         1.5|        0.2| Setosa|\n",
      "|         5.0|        3.6|         1.4|        0.2| Setosa|\n",
      "+------------+-----------+------------+-----------+-------+\n",
      "only showing top 5 rows\n",
      "\n"
     ]
    }
   ],
   "source": [
    "df = spark.read.csv('iris.csv', header=True, inferSchema=True)\n",
    "df.show(5)"
   ]
  },
  {
   "cell_type": "code",
   "execution_count": 33,
   "metadata": {},
   "outputs": [
    {
     "name": "stdout",
     "output_type": "stream",
     "text": [
      "root\n",
      " |-- sepal_length: double (nullable = true)\n",
      " |-- sepal_width: double (nullable = true)\n",
      " |-- petal_length: double (nullable = true)\n",
      " |-- petal_width: double (nullable = true)\n",
      " |-- variety: string (nullable = true)\n",
      "\n"
     ]
    }
   ],
   "source": [
    "df.printSchema()"
   ]
  },
  {
   "cell_type": "code",
   "execution_count": 34,
   "metadata": {},
   "outputs": [],
   "source": [
    "schema = StructType([\n",
    "    StructField(\"sepal_length\", DoubleType()),\n",
    "    StructField(\"sepal_width\", DoubleType()),\n",
    "    StructField(\"petal_length\", DoubleType()),\n",
    "    StructField(\"petal_width\", DoubleType()),\n",
    "    StructField(\"type\", StringType(), True)\n",
    "])"
   ]
  },
  {
   "cell_type": "code",
   "execution_count": 35,
   "metadata": {},
   "outputs": [
    {
     "name": "stdout",
     "output_type": "stream",
     "text": [
      "+------------+-----------+------------+-----------+-------+\n",
      "|sepal_length|sepal_width|petal_length|petal_width|variety|\n",
      "+------------+-----------+------------+-----------+-------+\n",
      "|         5.1|        3.5|         1.4|        0.2| Setosa|\n",
      "|         4.9|        3.0|         1.4|        0.2| Setosa|\n",
      "|         4.7|        3.2|         1.3|        0.2| Setosa|\n",
      "|         4.6|        3.1|         1.5|        0.2| Setosa|\n",
      "|         5.0|        3.6|         1.4|        0.2| Setosa|\n",
      "+------------+-----------+------------+-----------+-------+\n",
      "only showing top 5 rows\n",
      "\n"
     ]
    }
   ],
   "source": [
    "df2 = spark.read.csv('iris.csv', header=True, schema=schema)\n",
    "df.show(5)"
   ]
  },
  {
   "cell_type": "code",
   "execution_count": 36,
   "metadata": {},
   "outputs": [],
   "source": [
    "from pyspark.ml.feature import VectorAssembler"
   ]
  },
  {
   "cell_type": "code",
   "execution_count": 37,
   "metadata": {},
   "outputs": [
    {
     "name": "stdout",
     "output_type": "stream",
     "text": [
      "+------------+-----------+------------+-----------+-------+-----------------+\n",
      "|sepal_length|sepal_width|petal_length|petal_width|variety|         features|\n",
      "+------------+-----------+------------+-----------+-------+-----------------+\n",
      "|         5.1|        3.5|         1.4|        0.2| Setosa|[5.1,3.5,1.4,0.2]|\n",
      "|         4.9|        3.0|         1.4|        0.2| Setosa|[4.9,3.0,1.4,0.2]|\n",
      "|         4.7|        3.2|         1.3|        0.2| Setosa|[4.7,3.2,1.3,0.2]|\n",
      "|         4.6|        3.1|         1.5|        0.2| Setosa|[4.6,3.1,1.5,0.2]|\n",
      "|         5.0|        3.6|         1.4|        0.2| Setosa|[5.0,3.6,1.4,0.2]|\n",
      "+------------+-----------+------------+-----------+-------+-----------------+\n",
      "only showing top 5 rows\n",
      "\n"
     ]
    }
   ],
   "source": [
    "input_col = ['sepal_length', 'sepal_width', 'petal_length', 'petal_width']\n",
    "vectorizer = VectorAssembler(inputCols = input_col, outputCol='features')\n",
    "\n",
    "df = vectorizer.transform(df)\n",
    "\n",
    "df.show(5)"
   ]
  },
  {
   "cell_type": "code",
   "execution_count": 38,
   "metadata": {},
   "outputs": [],
   "source": [
    "from pyspark.ml.feature import StringIndexer"
   ]
  },
  {
   "cell_type": "code",
   "execution_count": 39,
   "metadata": {},
   "outputs": [
    {
     "name": "stdout",
     "output_type": "stream",
     "text": [
      "+------------+-----------+------------+-----------+-------+-----------------+------------+\n",
      "|sepal_length|sepal_width|petal_length|petal_width|variety|         features|indexed_type|\n",
      "+------------+-----------+------------+-----------+-------+-----------------+------------+\n",
      "|         5.1|        3.5|         1.4|        0.2| Setosa|[5.1,3.5,1.4,0.2]|         0.0|\n",
      "|         4.9|        3.0|         1.4|        0.2| Setosa|[4.9,3.0,1.4,0.2]|         0.0|\n",
      "|         4.7|        3.2|         1.3|        0.2| Setosa|[4.7,3.2,1.3,0.2]|         0.0|\n",
      "|         4.6|        3.1|         1.5|        0.2| Setosa|[4.6,3.1,1.5,0.2]|         0.0|\n",
      "|         5.0|        3.6|         1.4|        0.2| Setosa|[5.0,3.6,1.4,0.2]|         0.0|\n",
      "+------------+-----------+------------+-----------+-------+-----------------+------------+\n",
      "only showing top 5 rows\n",
      "\n"
     ]
    }
   ],
   "source": [
    "indexer = StringIndexer(inputCol='variety', outputCol='indexed_type')\n",
    "df = indexer.fit(df).transform(df)\n",
    "df.show(5)"
   ]
  },
  {
   "cell_type": "code",
   "execution_count": 40,
   "metadata": {},
   "outputs": [
    {
     "name": "stdout",
     "output_type": "stream",
     "text": [
      "+------------+-----------+------------+-----------+----------+-----------------+------------+\n",
      "|sepal_length|sepal_width|petal_length|petal_width|   variety|         features|indexed_type|\n",
      "+------------+-----------+------------+-----------+----------+-----------------+------------+\n",
      "|         4.3|        3.0|         1.1|        0.1|    Setosa|[4.3,3.0,1.1,0.1]|         0.0|\n",
      "|         4.4|        2.9|         1.4|        0.2|    Setosa|[4.4,2.9,1.4,0.2]|         0.0|\n",
      "|         4.4|        3.0|         1.3|        0.2|    Setosa|[4.4,3.0,1.3,0.2]|         0.0|\n",
      "|         4.4|        3.2|         1.3|        0.2|    Setosa|[4.4,3.2,1.3,0.2]|         0.0|\n",
      "|         4.5|        2.3|         1.3|        0.3|    Setosa|[4.5,2.3,1.3,0.3]|         0.0|\n",
      "|         4.6|        3.1|         1.5|        0.2|    Setosa|[4.6,3.1,1.5,0.2]|         0.0|\n",
      "|         4.6|        3.2|         1.4|        0.2|    Setosa|[4.6,3.2,1.4,0.2]|         0.0|\n",
      "|         4.6|        3.4|         1.4|        0.3|    Setosa|[4.6,3.4,1.4,0.3]|         0.0|\n",
      "|         4.6|        3.6|         1.0|        0.2|    Setosa|[4.6,3.6,1.0,0.2]|         0.0|\n",
      "|         4.7|        3.2|         1.3|        0.2|    Setosa|[4.7,3.2,1.3,0.2]|         0.0|\n",
      "|         4.7|        3.2|         1.6|        0.2|    Setosa|[4.7,3.2,1.6,0.2]|         0.0|\n",
      "|         4.8|        3.0|         1.4|        0.1|    Setosa|[4.8,3.0,1.4,0.1]|         0.0|\n",
      "|         4.8|        3.0|         1.4|        0.3|    Setosa|[4.8,3.0,1.4,0.3]|         0.0|\n",
      "|         4.8|        3.1|         1.6|        0.2|    Setosa|[4.8,3.1,1.6,0.2]|         0.0|\n",
      "|         4.8|        3.4|         1.6|        0.2|    Setosa|[4.8,3.4,1.6,0.2]|         0.0|\n",
      "|         4.8|        3.4|         1.9|        0.2|    Setosa|[4.8,3.4,1.9,0.2]|         0.0|\n",
      "|         4.9|        2.4|         3.3|        1.0|Versicolor|[4.9,2.4,3.3,1.0]|         1.0|\n",
      "|         4.9|        2.5|         4.5|        1.7| Virginica|[4.9,2.5,4.5,1.7]|         2.0|\n",
      "|         4.9|        3.0|         1.4|        0.2|    Setosa|[4.9,3.0,1.4,0.2]|         0.0|\n",
      "|         4.9|        3.1|         1.5|        0.1|    Setosa|[4.9,3.1,1.5,0.1]|         0.0|\n",
      "+------------+-----------+------------+-----------+----------+-----------------+------------+\n",
      "only showing top 20 rows\n",
      "\n"
     ]
    }
   ],
   "source": [
    "df_train, df_test = df.randomSplit([0.8, 0.2], seed=0)\n",
    "\n",
    "df_train.show()"
   ]
  },
  {
   "cell_type": "code",
   "execution_count": 41,
   "metadata": {},
   "outputs": [
    {
     "name": "stdout",
     "output_type": "stream",
     "text": [
      "+------------+-----------+------------+-----------+----------+-----------------+------------+\n",
      "|sepal_length|sepal_width|petal_length|petal_width|   variety|         features|indexed_type|\n",
      "+------------+-----------+------------+-----------+----------+-----------------+------------+\n",
      "|         4.9|        3.1|         1.5|        0.2|    Setosa|[4.9,3.1,1.5,0.2]|         0.0|\n",
      "|         4.9|        3.6|         1.4|        0.1|    Setosa|[4.9,3.6,1.4,0.1]|         0.0|\n",
      "|         5.0|        3.4|         1.6|        0.4|    Setosa|[5.0,3.4,1.6,0.4]|         0.0|\n",
      "|         5.0|        3.5|         1.3|        0.3|    Setosa|[5.0,3.5,1.3,0.3]|         0.0|\n",
      "|         5.0|        3.5|         1.6|        0.6|    Setosa|[5.0,3.5,1.6,0.6]|         0.0|\n",
      "|         5.1|        3.5|         1.4|        0.3|    Setosa|[5.1,3.5,1.4,0.3]|         0.0|\n",
      "|         5.1|        3.7|         1.5|        0.4|    Setosa|[5.1,3.7,1.5,0.4]|         0.0|\n",
      "|         5.1|        3.8|         1.6|        0.2|    Setosa|[5.1,3.8,1.6,0.2]|         0.0|\n",
      "|         5.4|        3.7|         1.5|        0.2|    Setosa|[5.4,3.7,1.5,0.2]|         0.0|\n",
      "|         5.5|        2.4|         3.7|        1.0|Versicolor|[5.5,2.4,3.7,1.0]|         1.0|\n",
      "|         5.6|        2.7|         4.2|        1.3|Versicolor|[5.6,2.7,4.2,1.3]|         1.0|\n",
      "|         5.6|        2.8|         4.9|        2.0| Virginica|[5.6,2.8,4.9,2.0]|         2.0|\n",
      "|         5.6|        2.9|         3.6|        1.3|Versicolor|[5.6,2.9,3.6,1.3]|         1.0|\n",
      "|         5.7|        2.5|         5.0|        2.0| Virginica|[5.7,2.5,5.0,2.0]|         2.0|\n",
      "|         5.7|        4.4|         1.5|        0.4|    Setosa|[5.7,4.4,1.5,0.4]|         0.0|\n",
      "|         5.8|        2.7|         4.1|        1.0|Versicolor|[5.8,2.7,4.1,1.0]|         1.0|\n",
      "|         6.0|        3.0|         4.8|        1.8| Virginica|[6.0,3.0,4.8,1.8]|         2.0|\n",
      "|         6.1|        2.6|         5.6|        1.4| Virginica|[6.1,2.6,5.6,1.4]|         2.0|\n",
      "|         6.1|        2.8|         4.0|        1.3|Versicolor|[6.1,2.8,4.0,1.3]|         1.0|\n",
      "|         6.3|        2.5|         4.9|        1.5|Versicolor|[6.3,2.5,4.9,1.5]|         1.0|\n",
      "+------------+-----------+------------+-----------+----------+-----------------+------------+\n",
      "only showing top 20 rows\n",
      "\n"
     ]
    }
   ],
   "source": [
    "df_test.show()"
   ]
  },
  {
   "cell_type": "code",
   "execution_count": 42,
   "metadata": {},
   "outputs": [],
   "source": [
    "from pyspark.ml.classification import RandomForestClassifier"
   ]
  },
  {
   "cell_type": "code",
   "execution_count": 43,
   "metadata": {},
   "outputs": [],
   "source": [
    "rf_clf = RandomForestClassifier(featuresCol='features', labelCol='indexed_type')"
   ]
  },
  {
   "cell_type": "code",
   "execution_count": 44,
   "metadata": {},
   "outputs": [],
   "source": [
    "rf_clf = rf_clf.fit(df_train)"
   ]
  },
  {
   "cell_type": "code",
   "execution_count": 45,
   "metadata": {},
   "outputs": [
    {
     "name": "stdout",
     "output_type": "stream",
     "text": [
      "+------------+-----------+------------+-----------+-------+-----------------+------------+--------------+---------------+----------+\n",
      "|sepal_length|sepal_width|petal_length|petal_width|variety|         features|indexed_type| rawPrediction|    probability|prediction|\n",
      "+------------+-----------+------------+-----------+-------+-----------------+------------+--------------+---------------+----------+\n",
      "|         4.9|        3.1|         1.5|        0.2| Setosa|[4.9,3.1,1.5,0.2]|         0.0|[20.0,0.0,0.0]|  [1.0,0.0,0.0]|       0.0|\n",
      "|         4.9|        3.6|         1.4|        0.1| Setosa|[4.9,3.6,1.4,0.1]|         0.0|[20.0,0.0,0.0]|  [1.0,0.0,0.0]|       0.0|\n",
      "|         5.0|        3.4|         1.6|        0.4| Setosa|[5.0,3.4,1.6,0.4]|         0.0|[19.0,1.0,0.0]|[0.95,0.05,0.0]|       0.0|\n",
      "|         5.0|        3.5|         1.3|        0.3| Setosa|[5.0,3.5,1.3,0.3]|         0.0|[20.0,0.0,0.0]|  [1.0,0.0,0.0]|       0.0|\n",
      "|         5.0|        3.5|         1.6|        0.6| Setosa|[5.0,3.5,1.6,0.6]|         0.0|[14.0,6.0,0.0]|  [0.7,0.3,0.0]|       0.0|\n",
      "+------------+-----------+------------+-----------+-------+-----------------+------------+--------------+---------------+----------+\n",
      "only showing top 5 rows\n",
      "\n"
     ]
    }
   ],
   "source": [
    "df_test = rf_clf.transform(df_test)\n",
    "df_test.show(5)"
   ]
  },
  {
   "cell_type": "code",
   "execution_count": 46,
   "metadata": {},
   "outputs": [
    {
     "name": "stdout",
     "output_type": "stream",
     "text": [
      "+----------+--------------------+------------+----------+\n",
      "|   variety|         probability|indexed_type|prediction|\n",
      "+----------+--------------------+------------+----------+\n",
      "|    Setosa|       [1.0,0.0,0.0]|         0.0|       0.0|\n",
      "|    Setosa|       [1.0,0.0,0.0]|         0.0|       0.0|\n",
      "|    Setosa|     [0.95,0.05,0.0]|         0.0|       0.0|\n",
      "|    Setosa|       [1.0,0.0,0.0]|         0.0|       0.0|\n",
      "|    Setosa|       [0.7,0.3,0.0]|         0.0|       0.0|\n",
      "|    Setosa|       [1.0,0.0,0.0]|         0.0|       0.0|\n",
      "|    Setosa|     [0.95,0.05,0.0]|         0.0|       0.0|\n",
      "|    Setosa|       [1.0,0.0,0.0]|         0.0|       0.0|\n",
      "|    Setosa|       [1.0,0.0,0.0]|         0.0|       0.0|\n",
      "|Versicolor|       [0.0,1.0,0.0]|         1.0|       1.0|\n",
      "|Versicolor|       [0.0,1.0,0.0]|         1.0|       1.0|\n",
      "| Virginica|       [0.0,0.1,0.9]|         2.0|       2.0|\n",
      "|Versicolor|       [0.0,1.0,0.0]|         1.0|       1.0|\n",
      "| Virginica|       [0.0,0.1,0.9]|         2.0|       2.0|\n",
      "|    Setosa|       [0.9,0.1,0.0]|         0.0|       0.0|\n",
      "|Versicolor|[0.0,0.9976190476...|         1.0|       1.0|\n",
      "| Virginica|   [0.0,0.275,0.725]|         2.0|       2.0|\n",
      "| Virginica|     [0.0,0.35,0.65]|         2.0|       2.0|\n",
      "|Versicolor|[0.0,0.9976190476...|         1.0|       1.0|\n",
      "|Versicolor|[0.0,0.7642857142...|         1.0|       1.0|\n",
      "+----------+--------------------+------------+----------+\n",
      "only showing top 20 rows\n",
      "\n"
     ]
    }
   ],
   "source": [
    "df_test.select('variety','probability','indexed_type','prediction').show()"
   ]
  },
  {
   "cell_type": "code",
   "execution_count": 47,
   "metadata": {},
   "outputs": [],
   "source": [
    "from pyspark.ml.evaluation import MulticlassClassificationEvaluator"
   ]
  },
  {
   "cell_type": "code",
   "execution_count": 48,
   "metadata": {},
   "outputs": [],
   "source": [
    "criterion = MulticlassClassificationEvaluator(labelCol='indexed_type')"
   ]
  },
  {
   "cell_type": "code",
   "execution_count": 49,
   "metadata": {},
   "outputs": [
    {
     "name": "stdout",
     "output_type": "stream",
     "text": [
      "Accurcy: 100.0%\n"
     ]
    }
   ],
   "source": [
    "acc = criterion.evaluate(df_test)\n",
    "print(f'Accurcy: {acc*100}%')"
   ]
  }
 ],
 "metadata": {
  "kernelspec": {
   "display_name": "Python 3.10.4 ('cv')",
   "language": "python",
   "name": "python3"
  },
  "language_info": {
   "codemirror_mode": {
    "name": "ipython",
    "version": 3
   },
   "file_extension": ".py",
   "mimetype": "text/x-python",
   "name": "python",
   "nbconvert_exporter": "python",
   "pygments_lexer": "ipython3",
   "version": "3.10.4"
  },
  "orig_nbformat": 4,
  "vscode": {
   "interpreter": {
    "hash": "05a2390a6829bae06b21bbb5ce18eee657ca85f0cefea8b37417053a28c3feaa"
   }
  }
 },
 "nbformat": 4,
 "nbformat_minor": 2
}
